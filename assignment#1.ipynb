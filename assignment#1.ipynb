{
 "cells": [
  {
   "cell_type": "code",
   "execution_count": 1,
   "metadata": {
    "scrolled": true
   },
   "outputs": [
    {
     "name": "stdout",
     "output_type": "stream",
     "text": [
      "Twinkle, twinkle, little star,\n",
      "\t How I wonder what you are!\n",
      "\t\t Up above the world so high,\n",
      "\t\t Like a diamond in the sky.\n",
      "Twinkle, twinkle, little star,\n",
      "\t How I wonder what you are\n"
     ]
    }
   ],
   "source": [
    "print('Twinkle, twinkle, little star,')\n",
    "print('\\t How I wonder what you are!')\n",
    "print('\\t\\t Up above the world so high,')\n",
    "print('\\t\\t Like a diamond in the sky.')\n",
    "print('Twinkle, twinkle, little star,')\n",
    "print('\\t How I wonder what you are')"
   ]
  },
  {
   "cell_type": "code",
   "execution_count": 2,
   "metadata": {},
   "outputs": [
    {
     "name": "stdout",
     "output_type": "stream",
     "text": [
      "\n",
      "\n",
      "Python version : 3.7.4 (default, Aug  9 2019, 18:34:13) [MSC v.1915 64 bit (AMD64)]\n",
      "Version Info : sys.version_info(major=3, minor=7, micro=4, releaselevel='final', serial=0)\n"
     ]
    }
   ],
   "source": [
    "import sys\n",
    "print('\\n')\n",
    "print('Python version :' , sys.version)\n",
    "print('Version Info :' , sys.version_info)"
   ]
  },
  {
   "cell_type": "code",
   "execution_count": 3,
   "metadata": {},
   "outputs": [
    {
     "name": "stdout",
     "output_type": "stream",
     "text": [
      "2019-11-22 00:20:48.235832\n"
     ]
    }
   ],
   "source": [
    "from datetime import datetime\n",
    "today = datetime.today()\n",
    "today.strftime(\"%d/%m/%y  %H:%M:%S\")\n",
    "print(today)"
   ]
  },
  {
   "cell_type": "code",
   "execution_count": 4,
   "metadata": {},
   "outputs": [
    {
     "name": "stdout",
     "output_type": "stream",
     "text": [
      "Enter the radius of a circle:4\n",
      "The compute area of the circle with radius 4 is: 50.26548245743669\n",
      "\n",
      "\n"
     ]
    }
   ],
   "source": [
    "from math import pi\n",
    "r = int(input (\"Enter the radius of a circle:\"))\n",
    "print ('The compute area of the circle with radius ' + str(r) + ' is: ' + str(pi * r**2))\n",
    "print('\\n')"
   ]
  },
  {
   "cell_type": "code",
   "execution_count": 7,
   "metadata": {},
   "outputs": [
    {
     "name": "stdout",
     "output_type": "stream",
     "text": [
      "Enter your First Name : Maria\n",
      "Enter your Last Name : Ali\n",
      "Ali Maria\n",
      "\n",
      "\n"
     ]
    }
   ],
   "source": [
    "firstname = input('Enter your First Name : ')\n",
    "lastname = input('Enter your Last Name : ')\n",
    "print (lastname + \" \" + firstname)\n",
    "print('\\n')"
   ]
  },
  {
   "cell_type": "code",
   "execution_count": 6,
   "metadata": {},
   "outputs": [
    {
     "name": "stdout",
     "output_type": "stream",
     "text": [
      "Enter the number :5\n",
      "Enter the number :8\n",
      "13\n"
     ]
    }
   ],
   "source": [
    "a = input('Enter the number :')\n",
    "b = input('Enter the number :')\n",
    "c = int(a)+int(b)\n",
    "print(c)"
   ]
  }
 ],
 "metadata": {
  "kernelspec": {
   "display_name": "Python 3",
   "language": "python",
   "name": "python3"
  },
  "language_info": {
   "codemirror_mode": {
    "name": "ipython",
    "version": 3
   },
   "file_extension": ".py",
   "mimetype": "text/x-python",
   "name": "python",
   "nbconvert_exporter": "python",
   "pygments_lexer": "ipython3",
   "version": "3.7.4"
  }
 },
 "nbformat": 4,
 "nbformat_minor": 2
}
