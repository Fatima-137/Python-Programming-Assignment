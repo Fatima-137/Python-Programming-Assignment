{
 "cells": [
  {
   "cell_type": "code",
   "execution_count": 31,
   "metadata": {},
   "outputs": [
    {
     "name": "stdout",
     "output_type": "stream",
     "text": [
      "Select operation:\n",
      "1.Addition\n",
      "2.Subtraction\n",
      "3.Multiplication\n",
      "4.Division\n",
      "5.Power\n",
      "Enter choice(1/2/3/4/5): 5\n",
      "Enter first number: 4\n",
      "Enter second number: 3\n",
      "4 ** 3 = 64\n"
     ]
    }
   ],
   "source": [
    "def add(a, b):\n",
    "   return a + b \n",
    "def sub(x, y):\n",
    "   return x - y\n",
    "def mul(x, y):\n",
    "   return x * y\n",
    "def div(x, y):\n",
    "   return x / y\n",
    "def power(x, y):\n",
    "   return x ** y\n",
    "\n",
    "print(\"Select operation:\")\n",
    "print(\"1.Addition\")\n",
    "print(\"2.Subtraction\")\n",
    "print(\"3.Multiplication\")\n",
    "print(\"4.Division\")\n",
    "print(\"5.Power\")\n",
    "  \n",
    "choice = int(input(\"Enter choice(1/2/3/4/5): \"))\n",
    "a = int(input(\"Enter first number: \"))\n",
    "b = int(input(\"Enter second number: \"))\n",
    "if choice == '1':\n",
    "   print(a,\"+\",b,\"=\", add(a,b))\n",
    "elif choice == '2':\n",
    "   print(a,\"-\",b,\"=\", sub(a,b))\n",
    "elif choice == '3':\n",
    "   print(a,\"*\",b,\"=\", mul(a,b))\n",
    "elif choice == '4':\n",
    "   print(a,\"/\",b,\"=\", div(a,b))\n",
    "elif choice == '5':\n",
    "   print(a,\"**\",b,\"=\", power(a,b))\n",
    "else:\n",
    "   print(\"Invalid input\")"
   ]
  },
  {
   "cell_type": "code",
   "execution_count": 15,
   "metadata": {},
   "outputs": [
    {
     "name": "stdout",
     "output_type": "stream",
     "text": [
      "Checking if 50 exists in list : \n",
      "Element Exist\n"
     ]
    }
   ],
   "source": [
    "numeric_list = [ 51, 8, 13, 50, 29 ] \n",
    "  \n",
    "print(\"Checking if 50 exists in list : \")  \n",
    "for p in numeric_list: \n",
    "    if(p==51) : \n",
    "        print(\"Element Exist\")"
   ]
  },
  {
   "cell_type": "code",
   "execution_count": 18,
   "metadata": {},
   "outputs": [
    {
     "name": "stdout",
     "output_type": "stream",
     "text": [
      "{0: 10, 1: 20}\n",
      "{0: 10, 1: 20, 2: 30}\n"
     ]
    }
   ],
   "source": [
    "key = {0:10, 1:20}\n",
    "print(key)\n",
    "key.update({2:30})\n",
    "print(key)"
   ]
  },
  {
   "cell_type": "code",
   "execution_count": 8,
   "metadata": {},
   "outputs": [
    {
     "name": "stdout",
     "output_type": "stream",
     "text": [
      "Sum of all numeric items in dictionary: 5900\n"
     ]
    }
   ],
   "source": [
    "def allSum(myDict): \n",
    "      \n",
    "    num= 0\n",
    "    for n in myDict: \n",
    "        num = num + myDict[n] \n",
    "      \n",
    "    return num\n",
    "\n",
    "dict = {'Ali': 500, 'Sana': 1000, 'Nissa': 900, 'Ahmed': 1500, 'Iqra': 2000} \n",
    "print(\"Sum of all numeric items in dictionary:\", allSum(dict)) "
   ]
  },
  {
   "cell_type": "code",
   "execution_count": 13,
   "metadata": {},
   "outputs": [
    {
     "name": "stdout",
     "output_type": "stream",
     "text": [
      "[25, 54, 60, 100]\n"
     ]
    }
   ],
   "source": [
    "def duplicate(u): \n",
    "    size = len(u) \n",
    "    repeat = [] \n",
    "    for a in range(size): \n",
    "        p = a + 1\n",
    "        for b in range(p, size): \n",
    "            if u[a] == u[b] and u[a] not in repeat: \n",
    "                repeat.append(u[a]) \n",
    "    return repeat \n",
    "list = [25, 300, 20, 54, 25, 60, 100,  54, 30, 60, 90, 11, 100] \n",
    "print (duplicate(list)) "
   ]
  },
  {
   "cell_type": "code",
   "execution_count": 12,
   "metadata": {},
   "outputs": [
    {
     "name": "stdout",
     "output_type": "stream",
     "text": [
      "Key is not in the dictionary\n",
      "Key is already in the dictionary\n"
     ]
    }
   ],
   "source": [
    "check = {12: 50, 24: 28, 50: 70, 49: 64, 25: 55, 61: 96, 16: 11}\n",
    "def key(o):\n",
    "  if o in check:\n",
    "      print(\"Key is already in the dictionary\")\n",
    "  else:\n",
    "      print(\"Key is not in the dictionary\")\n",
    "key(11)\n",
    "key(49)"
   ]
  }
 ],
 "metadata": {
  "kernelspec": {
   "display_name": "Python 3",
   "language": "python",
   "name": "python3"
  },
  "language_info": {
   "codemirror_mode": {
    "name": "ipython",
    "version": 3
   },
   "file_extension": ".py",
   "mimetype": "text/x-python",
   "name": "python",
   "nbconvert_exporter": "python",
   "pygments_lexer": "ipython3",
   "version": "3.7.4"
  }
 },
 "nbformat": 4,
 "nbformat_minor": 2
}
