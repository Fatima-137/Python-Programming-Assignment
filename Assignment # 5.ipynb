{
 "cells": [
  {
   "cell_type": "code",
   "execution_count": 11,
   "metadata": {},
   "outputs": [
    {
     "name": "stdout",
     "output_type": "stream",
     "text": [
      "Enter the number :4\n",
      "24\n"
     ]
    }
   ],
   "source": [
    "def fact(num):\n",
    "    if num == 1: \n",
    "        return 1\n",
    "    else:\n",
    "        return num*fact(num-1)\n",
    "num=int(input(\"Enter the number :\"))\n",
    "print(fact(num))"
   ]
  },
  {
   "cell_type": "code",
   "execution_count": 20,
   "metadata": {},
   "outputs": [
    {
     "name": "stdout",
     "output_type": "stream",
     "text": [
      "Enter the string:Python Programming\n",
      "The number of lowercase characters is:\n",
      "2\n",
      "The number of uppercase characters is:\n",
      "15\n"
     ]
    }
   ],
   "source": [
    "string=input(\"Enter the string:\")\n",
    "a1=0\n",
    "a2=0\n",
    "for i in string:\n",
    "      if(i.isupper()):\n",
    "            a1=a1+1\n",
    "      elif(i.islower()):\n",
    "            a2=a2+1\n",
    "print(\"The number of lowercase characters is:\")\n",
    "print(a1)\n",
    "print(\"The number of uppercase characters is:\")\n",
    "print(a2)      \n",
    " "
   ]
  },
  {
   "cell_type": "code",
   "execution_count": 28,
   "metadata": {},
   "outputs": [
    {
     "name": "stdout",
     "output_type": "stream",
     "text": [
      "2 66 10 12 44 24 "
     ]
    }
   ],
   "source": [
    "list = {1,2,10,12,15,24,45,44,66}\n",
    "for num in list:\n",
    "    if (num%2==0):\n",
    "        print(num, end=\" \")\n"
   ]
  },
  {
   "cell_type": "code",
   "execution_count": 12,
   "metadata": {},
   "outputs": [
    {
     "name": "stdout",
     "output_type": "stream",
     "text": [
      "True\n"
     ]
    }
   ],
   "source": [
    "def Palindrome(string):\n",
    "    left_pos = -1\n",
    "    right_pos = len(string) - 1\n",
    "\n",
    "    while right_pos >= left_pos:\n",
    "        if not string[left_pos] == string[right_pos]:\n",
    "            return False\n",
    "        left_pos += 1\n",
    "        right_pos -= 1 \n",
    "        return True\n",
    "    \n",
    "print(Palindrome(\"Madam\")) "
   ]
  },
  {
   "cell_type": "code",
   "execution_count": 25,
   "metadata": {},
   "outputs": [
    {
     "name": "stdout",
     "output_type": "stream",
     "text": [
      "True\n"
     ]
    }
   ],
   "source": [
    "def test_prime(num):\n",
    "    if (num==1):\n",
    "        return False\n",
    "    elif (num==2):\n",
    "        return True;\n",
    "    else:\n",
    "        for i in range(2,num):\n",
    "            if(num % i==0):\n",
    "                return False\n",
    "        return True             \n",
    "print(test_prime(5))"
   ]
  },
  {
   "cell_type": "code",
   "execution_count": 3,
   "metadata": {},
   "outputs": [
    {
     "name": "stdout",
     "output_type": "stream",
     "text": [
      "\n",
      " Enter the item you bought from market    \n",
      " If you leave enter Quit: Apple\n",
      "\n",
      " Enter the item you bought from market    \n",
      " If you leave enter Quit: Plates\n",
      "\n",
      " Enter the item you bought from market    \n",
      " If you leave enter Quit: Rice\n",
      "\n",
      " Enter the item you bought from market    \n",
      " If you leave enter Quit: Vegetable\n",
      "\n",
      " Enter the item you bought from market    \n",
      " If you leave enter Quit: Quit\n",
      "                      Shopping List                  \n",
      "You bought:  ['Apple', 'Plates', 'Rice', 'Vegetable']\n"
     ]
    }
   ],
   "source": [
    "def Customer_Shopping(*Shopping_list):\n",
    "    print(\"                      Shopping List                  \")    \n",
    "    for element in Shopping_list:\n",
    "        print(\"You bought: \",element)\n",
    "\n",
    "Shopping_list = []\n",
    "\n",
    "while True:\n",
    "    items = input(\"\\n Enter the item you bought from market    \\n If you leave enter Quit: \")\n",
    "    if items == \"Quit\":\n",
    "        break\n",
    "    Shopping_list.append(items)\n",
    "\n",
    "Customer_Shopping(Shopping_list)"
   ]
  }
 ],
 "metadata": {
  "kernelspec": {
   "display_name": "Python 3",
   "language": "python",
   "name": "python3"
  },
  "language_info": {
   "codemirror_mode": {
    "name": "ipython",
    "version": 3
   },
   "file_extension": ".py",
   "mimetype": "text/x-python",
   "name": "python",
   "nbconvert_exporter": "python",
   "pygments_lexer": "ipython3",
   "version": "3.7.4"
  }
 },
 "nbformat": 4,
 "nbformat_minor": 2
}
