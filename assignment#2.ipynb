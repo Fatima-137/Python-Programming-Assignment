{
 "cells": [
  {
   "cell_type": "code",
   "execution_count": 1,
   "metadata": {
    "scrolled": true
   },
   "outputs": [
    {
     "name": "stdout",
     "output_type": "stream",
     "text": [
      "Enter the your marks of subject out of 100 :90\n",
      "Enter the your marks of subject out of 100 :80\n",
      "Enter the your marks of subject out of 100 :96\n",
      "Enter the your marks of subject out of 100 :97\n",
      "Enter the your marks of subject out of 100 :95\n",
      "Your total marks of subjects are:458\n",
      "Your precentage is:91.60000000000001\n",
      "Grade: A\n"
     ]
    }
   ],
   "source": [
    "Applied_Physics = int (input(\"Enter the your marks of subject out of 100 :\"))\n",
    "OOP = int (input(\"Enter the your marks of subject out of 100 :\"))\n",
    "Differential_Eq = int (input(\"Enter the your marks of subject out of 100 :\"))\n",
    "DLD = int (input(\"Enter the your marks of subject out of 100 :\"))\n",
    "BE  = int (input(\"Enter the your marks of subject out of 100 :\"))\n",
    "Total = Applied_Physics+OOP+Differential_Eq+DLD+BE\n",
    "average=(Total/500)*100\n",
    "print(\"Your total marks of subjects are:\" +str(Total))\n",
    "print(\"Your precentage is:\" +str(average))\n",
    "if (average>=90 and average<=100):\n",
    "    print(\"Grade: A\")\n",
    "elif (average>=80 and average<90):\n",
    "    print(\"Grade: B\")\n",
    "elif (average>=70 and average<80):\n",
    "    print(\"Grade: C\")\n",
    "elif (average>=60 and average<70):\n",
    "    print(\"Grade: D\")\n",
    "else:\n",
    "    print(\"Grade: F\")"
   ]
  },
  {
   "cell_type": "code",
   "execution_count": 5,
   "metadata": {},
   "outputs": [
    {
     "name": "stdout",
     "output_type": "stream",
     "text": [
      "Enter the number:6\n",
      "Even\n"
     ]
    }
   ],
   "source": [
    "num = int(input(\"Enter the number:\"))\n",
    "if (num % 2==0):\n",
    "    print(\"Even\" .format(num))\n",
    "else:\n",
    "    print(\"Odd\" .format(num))"
   ]
  },
  {
   "cell_type": "code",
   "execution_count": 7,
   "metadata": {},
   "outputs": [
    {
     "name": "stdout",
     "output_type": "stream",
     "text": [
      "The length of list is: 11\n"
     ]
    }
   ],
   "source": [
    "list = len([24,40,5,70,40,60,10,15,36,8,9])\n",
    "print(\"The length of list is:\" , list)"
   ]
  },
  {
   "cell_type": "code",
   "execution_count": 8,
   "metadata": {},
   "outputs": [
    {
     "name": "stdout",
     "output_type": "stream",
     "text": [
      "358\n"
     ]
    }
   ],
   "source": [
    "def sum(num_items):\n",
    "    numbers = 0\n",
    "    for n in num_items:\n",
    "        numbers += n\n",
    "    return numbers\n",
    "print(sum((99, 49, 73, 60, 77)))"
   ]
  },
  {
   "cell_type": "code",
   "execution_count": 10,
   "metadata": {},
   "outputs": [
    {
     "name": "stdout",
     "output_type": "stream",
     "text": [
      "This is the largest num: 69\n"
     ]
    }
   ],
   "source": [
    "list =[10,35,50,69,8,5]\n",
    "print(\"This is the largest num:\" , max(list))"
   ]
  },
  {
   "cell_type": "code",
   "execution_count": 3,
   "metadata": {},
   "outputs": [
    {
     "name": "stdout",
     "output_type": "stream",
     "text": [
      "[1, 1, 2, 3]\n"
     ]
    }
   ],
   "source": [
    "a = [1, 1, 2, 3, 5, 8, 13, 21, 34, 55, 89]\n",
    "new_list = []\n",
    "for n in a:\n",
    "    if n < 5:\n",
    "        new_list.append(n)\n",
    "print(new_list)\n",
    "    "
   ]
  }
 ],
 "metadata": {
  "kernelspec": {
   "display_name": "Python 3",
   "language": "python",
   "name": "python3"
  },
  "language_info": {
   "codemirror_mode": {
    "name": "ipython",
    "version": 3
   },
   "file_extension": ".py",
   "mimetype": "text/x-python",
   "name": "python",
   "nbconvert_exporter": "python",
   "pygments_lexer": "ipython3",
   "version": "3.7.4"
  }
 },
 "nbformat": 4,
 "nbformat_minor": 2
}
