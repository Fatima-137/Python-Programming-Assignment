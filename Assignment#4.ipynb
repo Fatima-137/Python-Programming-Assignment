{
 "cells": [
  {
   "cell_type": "code",
   "execution_count": 16,
   "metadata": {},
   "outputs": [
    {
     "name": "stdout",
     "output_type": "stream",
     "text": [
      "Sana\n",
      "Jaweed\n",
      "20\n",
      "Karachi\n",
      "Graduation\n",
      "{'First_name': 'Sana', 'Last_name': 'Jaweed', 'Age': 20, 'City': 'Karachi'}\n"
     ]
    }
   ],
   "source": [
    "person = {\n",
    "    \"First_name\" : \"Sana\",\n",
    "    \"Last_name\"  : \"Jaweed\",\n",
    "    \"Age\"        : 20,\n",
    "    \"City\"       : \"Karachi\",\n",
    "    }\n",
    "print(person[\"First_name\"])\n",
    "print(person[\"Last_name\"])  \n",
    "print(person[\"Age\"])\n",
    "print(person[\"City\"])\n",
    "\n",
    "key ={ \"Qualification\" : \"Graduation\",}\n",
    "person.update(key) \n",
    "print(person[\"Qualification\"])\n",
    "\n",
    "del(person[\"Qualification\"])\n",
    "print(person)\n"
   ]
  },
  {
   "cell_type": "code",
   "execution_count": 11,
   "metadata": {},
   "outputs": [
    {
     "name": "stdout",
     "output_type": "stream",
     "text": [
      "\n",
      "London is in United Kingdom\n",
      "It has a population of about 7556900\n",
      "The Tower Of London Houses Six Ravens mountains are near by\n",
      "\n",
      "Karachi is in Pakistan\n",
      "It has a population of about 15741000\n",
      "Haleji Lake mountains are near by\n",
      "\n",
      "Toronto is in Canada\n",
      "It has a population of about 2731571\n",
      "Dundas Peak mountains are near by\n"
     ]
    }
   ],
   "source": [
    "Cities ={\n",
    "    \"london\" : {\n",
    "        \"Country\" : \"United Kingdom\",\n",
    "        \"Population\" : 7556900,\n",
    "        \"Fact\" : \"The Tower of London houses six ravens\",\n",
    "    },\n",
    "    \"Karachi\" : {\n",
    "        \"Country\" : \"Pakistan\",\n",
    "        \"Population\" : 15741000,\n",
    "        \"Fact\" : \"Haleji Lake\"\n",
    "    },\n",
    "    \"Toronto\" : {\n",
    "        \"Country\" : \"Canada\",\n",
    "        \"Population\" : 2731571,\n",
    "        \"Fact\" : \"Dundas Peak\",\n",
    "    }\n",
    "}\n",
    "\n",
    "\n",
    "for city, city_info, in Cities.items():\n",
    "    country = city_info[\"Country\"].title()\n",
    "    population = city_info[\"Population\"]\n",
    "    mountains = city_info[\"Fact\"].title()\n",
    "\n",
    "    print(\"\\n\" + city.title() + \" is in \" + country)\n",
    "    print(\"It has a population of about \" + str(population))\n",
    "    print(mountains + \" mountains are near by\")"
   ]
  },
  {
   "cell_type": "code",
   "execution_count": 3,
   "metadata": {},
   "outputs": [
    {
     "name": "stdout",
     "output_type": "stream",
     "text": [
      "How old are you?\n",
      "Enter 'quit' when you are finished.2\n",
      "You get in free!\n",
      "How old are you?\n",
      "Enter 'quit' when you are finished.4\n",
      "Your ticket is $10.\n",
      "How old are you?\n",
      "Enter 'quit' when you are finished.50\n",
      "Your ticket is $15.\n",
      "How old are you?\n",
      "Enter 'quit' when you are finished.quit\n"
     ]
    }
   ],
   "source": [
    "prompt = \"How old are you?\" \n",
    "prompt += \"\\nEnter 'quit' when you are finished.\"\n",
    "\n",
    "while True:\n",
    "    age = input(prompt)\n",
    "    if age == 'quit':\n",
    "        break\n",
    "    age = int(age)\n",
    "\n",
    "    if age < 3:\n",
    "        print(\"You get in free!\")\n",
    "    elif age < 13:\n",
    "        print(\"Your ticket is $10.\")\n",
    "    else:\n",
    "        print(\"Your ticket is $15.\")"
   ]
  },
  {
   "cell_type": "code",
   "execution_count": 32,
   "metadata": {},
   "outputs": [
    {
     "name": "stdout",
     "output_type": "stream",
     "text": [
      "One of my favorite book is Alice in Wonderland\n",
      "One of my favorite book is Alice in Wonderland\n"
     ]
    }
   ],
   "source": [
    "def favourite_book(title):\n",
    "    print(title)\n",
    "    \n",
    "favourite_book(\"One of my favorite book is Alice in Wonderland\")\n",
    "\n",
    "                  #OR\n",
    "def favourite_book(title):\n",
    "    print(\"One of my favorite book is\" + title)\n",
    "favourite_book(\" Alice in Wonderland\")\n"
   ]
  },
  {
   "cell_type": "code",
   "execution_count": 4,
   "metadata": {},
   "outputs": [
    {
     "name": "stdout",
     "output_type": "stream",
     "text": [
      "Assalam-o-Aliakum! What is your name?\n",
      "Aliza\n",
      "Well, Aliza I have a number between 1 and 30. Can you guess my number? Please type your first guess:\n",
      "Take the Guess Number\n",
      "1\n",
      "Try again! Your Guess number is smaller\n",
      "Take the Guess Number\n",
      "3\n",
      "Try again! Your Guess number is greater\n",
      "Take the Guess Number\n",
      "2\n",
      "Good job Aliza! You guessed my number in 3 guesses!\n"
     ]
    }
   ],
   "source": [
    "import random\n",
    "Guessnum = 0\n",
    "print(\"Assalam-o-Aliakum! What is your name?\")\n",
    "myName = input()\n",
    "num = random.randint(1, 30)\n",
    "print('Well, ' + myName + \" I have a number between 1 and 30. Can you guess my number? Please type your first guess:\")\n",
    "while Guessnum < 4:\n",
    "    print(\"Take the Guess Number\")\n",
    "    Guess = input()\n",
    "    Guess = int(Guess)\n",
    "    Guessnum = Guessnum+1\n",
    "    if (Guess > num):\n",
    "        print(\"Try again! Your Guess number is greater\")\n",
    "    if (Guess < num):\n",
    "        print(\"Try again! Your Guess number is smaller\")\n",
    "    if (Guess == num):\n",
    "        break\n",
    "if (Guess == num):\n",
    "    Guessnum = str(Guessnum)\n",
    "    print(\"Good job \" + myName + \"! You guessed my number in \" + Guessnum + \" guesses!\")\n",
    "if (Guess != num):\n",
    "    num = str(num)\n",
    "    print(\"Nope! The number I was thinking of was \" + num)"
   ]
  }
 ],
 "metadata": {
  "kernelspec": {
   "display_name": "Python 3",
   "language": "python",
   "name": "python3"
  },
  "language_info": {
   "codemirror_mode": {
    "name": "ipython",
    "version": 3
   },
   "file_extension": ".py",
   "mimetype": "text/x-python",
   "name": "python",
   "nbconvert_exporter": "python",
   "pygments_lexer": "ipython3",
   "version": "3.7.4"
  }
 },
 "nbformat": 4,
 "nbformat_minor": 2
}
