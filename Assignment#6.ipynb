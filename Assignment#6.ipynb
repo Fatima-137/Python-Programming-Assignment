{
 "cells": [
  {
   "cell_type": "raw",
   "metadata": {},
   "source": [
    "OOP:\n",
    "    Object-oriented programming (OOP) refers to a type of computer programming  in which programmers define the data type of a data structure and also the types of operations that can be applied to the data structure. In this way, the data structure becomes an object that includes both data and functions. In addition, programmers can create relationships between one object and another."
   ]
  },
  {
   "cell_type": "raw",
   "metadata": {},
   "source": [
    "Following list of benefits of OOP:\n",
    "    1. Modularity for easier troubleshooting\n",
    "    2. Reuse of code through inheritance\n",
    "    3. Flexibility through polymorphism\n",
    "    4. Effective problem solving"
   ]
  },
  {
   "cell_type": "raw",
   "metadata": {},
   "source": [
    "Differentiate between function and method:\n",
    "    A function returns a value, but a procedure does not. A method is similar to a function, but is internal to part of a class. The term method is used almost exclusively in object-oriented programming. A function is something that takes a bunch of inputs and returns one or more values."
   ]
  },
  {
   "cell_type": "raw",
   "metadata": {},
   "source": [
    "Class:\n",
    "    It is a template or blue print about capability of what an object can do and defines the operations. \n",
    "Object:\n",
    "    An object is an element (or instance) of a class; objects have the behaviors of their class. The object is the actual component of programs, while the class specifies how instances are created and how they behave.\n",
    "Attribute:\n",
    "    An Attribute is a named property of a class. It has a type. It describes the range of values that that property may hold.\n",
    "Behavior:\n",
    "     The behavior of class or its instances is defined using methods. Methods are subroutines with the ability to operate on objects or classes."
   ]
  },
  {
   "cell_type": "code",
   "execution_count": 1,
   "metadata": {},
   "outputs": [
    {
     "ename": "NameError",
     "evalue": "name 'self' is not defined",
     "output_type": "error",
     "traceback": [
      "\u001b[1;31m---------------------------------------------------------------------------\u001b[0m",
      "\u001b[1;31mNameError\u001b[0m                                 Traceback (most recent call last)",
      "\u001b[1;32m<ipython-input-1-031c7b48adee>\u001b[0m in \u001b[0;36m<module>\u001b[1;34m\u001b[0m\n\u001b[0;32m     17\u001b[0m        \u001b[1;32mdef\u001b[0m \u001b[0ma5\u001b[0m\u001b[1;33m(\u001b[0m\u001b[0mself\u001b[0m\u001b[1;33m)\u001b[0m\u001b[1;33m:\u001b[0m\u001b[1;33m\u001b[0m\u001b[1;33m\u001b[0m\u001b[0m\n\u001b[0;32m     18\u001b[0m            \u001b[0mprint\u001b[0m\u001b[1;33m(\u001b[0m\u001b[0mmodel\u001b[0m\u001b[1;33m+\u001b[0m\u001b[0mcolor\u001b[0m\u001b[1;33m+\u001b[0m\u001b[0mname\u001b[0m\u001b[1;33m+\u001b[0m\u001b[0mcarID\u001b[0m\u001b[1;33m+\u001b[0m\u001b[0myear\u001b[0m\u001b[1;33m)\u001b[0m\u001b[1;33m\u001b[0m\u001b[1;33m\u001b[0m\u001b[0m\n\u001b[1;32m---> 19\u001b[1;33m \u001b[0mcar\u001b[0m\u001b[1;33m.\u001b[0m\u001b[0ma\u001b[0m\u001b[1;33m(\u001b[0m\u001b[0mself\u001b[0m\u001b[1;33m)\u001b[0m\u001b[1;33m\u001b[0m\u001b[1;33m\u001b[0m\u001b[0m\n\u001b[0m\u001b[0;32m     20\u001b[0m \u001b[1;33m\u001b[0m\u001b[0m\n",
      "\u001b[1;31mNameError\u001b[0m: name 'self' is not defined"
     ]
    }
   ],
   "source": [
    " class car():\n",
    "        def _init_(self, model, color, name, carID, year):\n",
    "            self.model= model\n",
    "            self.color= color\n",
    "            self.name= name\n",
    "            self.carID= carID\n",
    "            self.year= year\n",
    "            \n",
    "        def a(self):\n",
    "            print(model+color+name+carID+year)\n",
    "        def a2(self):\n",
    "            print(model+color+name+carID+year)\n",
    "        def a3(self):\n",
    "            print(model+color+name+carID+year)\n",
    "        def a4(self):\n",
    "            print(model+color+name+carID+year)\n",
    "        def a5(self):\n",
    "            print(model+color+name+carID+year)\n",
    "car.a(self)\n",
    "        "
   ]
  }
 ],
 "metadata": {
  "kernelspec": {
   "display_name": "Python 3",
   "language": "python",
   "name": "python3"
  },
  "language_info": {
   "codemirror_mode": {
    "name": "ipython",
    "version": 3
   },
   "file_extension": ".py",
   "mimetype": "text/x-python",
   "name": "python",
   "nbconvert_exporter": "python",
   "pygments_lexer": "ipython3",
   "version": "3.7.4"
  }
 },
 "nbformat": 4,
 "nbformat_minor": 2
}
